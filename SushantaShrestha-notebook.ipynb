{
 "cells": [
  {
   "cell_type": "code",
   "execution_count": null,
   "metadata": {},
   "outputs": [],
   "source": [
    "# MODEL 4 PROJECT PRACTICE: SUSHANTA SHRESTHA  https://github.com/sshres10/datafun-04-notebooks\n",
    "\n"
   ]
  },
  {
   "cell_type": "code",
   "execution_count": null,
   "metadata": {},
   "outputs": [],
   "source": [
    "# This cell is Python\n",
    "import seaborn as sns\n",
    "\n",
    "# Load the penguins dataset from Seaborn\n",
    "penguins = sns.load_dataset(\"penguins\")\n",
    "\n",
    "# Show a few lines from the start of the dataset\n",
    "penguins.head()\n",
    "\n",
    "# This cell is Python too - you'll need to Run the previous cell first\n",
    "\n",
    "# Create a scatter plot of soccer player height vs. weight\n",
    "plt = sns.scatterplot(data=soccer_data, x=\"height_cm\", y=\"weight_kg\", hue=\"position\")\n",
    "\n",
    "# Set axis labels and chart title\n",
    "plt.set_xlabel(\"Height (cm)\")\n",
    "plt.set_ylabel(\"Weight (kg)\")\n",
    "plt.set_title(\"Soccer Player Height vs. Weight\")\n",
    "\n",
    "# Run this cell by clicking the play button (Execute cell and below) in the cell toolbar\n",
    "# Or by pressing Shift+Enter \n",
    "# or by clicking Run All in the Menu above\n"
   ]
  }
 ],
 "metadata": {
  "language_info": {
   "name": "python"
  },
  "orig_nbformat": 4
 },
 "nbformat": 4,
 "nbformat_minor": 2
}
