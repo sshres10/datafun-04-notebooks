{
 "cells": [
  {
   "cell_type": "markdown",
   "metadata": {},
   "source": [
    "# TASK 2 : Sushanta_2\n",
    "\n",
    "### Task 1: Create DataFrame "
   ]
  },
  {
   "cell_type": "code",
   "execution_count": 3,
   "metadata": {},
   "outputs": [
    {
     "name": "stdout",
     "output_type": "stream",
     "text": [
      "   Wally  Eva  Sam  Katie  Bob\n",
      "0     87  100   94    100   83\n",
      "1     96   87   77     81   65\n",
      "2     70   90   90     82   85\n"
     ]
    }
   ],
   "source": [
    "import pandas as pd\n",
    "\n",
    "grades_dict = {\n",
    "    'Wally': [87, 96, 70],\n",
    "    'Eva': [100, 87, 90],\n",
    "    'Sam': [94, 77, 90],\n",
    "    'Katie': [100, 81, 82],\n",
    "    'Bob': [83, 65, 85]\n",
    "}\n",
    "\n",
    "grades = pd.DataFrame(grades_dict)\n",
    "\n",
    "print(grades)\n"
   ]
  },
  {
   "cell_type": "markdown",
   "metadata": {},
   "source": [
    "### Task 2. Custom Index"
   ]
  },
  {
   "cell_type": "code",
   "execution_count": 4,
   "metadata": {},
   "outputs": [
    {
     "name": "stdout",
     "output_type": "stream",
     "text": [
      "       Wally  Eva  Sam  Katie  Bob\n",
      "Test1     87  100   94    100   83\n",
      "Test2     96   87   77     81   65\n",
      "Test3     70   90   90     82   85\n",
      "\n",
      "Eva's Grades:\n",
      "Test1    100\n",
      "Test2     87\n",
      "Test3     90\n",
      "Name: Eva, dtype: int64\n",
      "\n",
      "Sam's Grades:\n",
      "Test1    94\n",
      "Test2    77\n",
      "Test3    90\n",
      "Name: Sam, dtype: int64\n"
     ]
    }
   ],
   "source": [
    "\n",
    "grades_dict = {\n",
    "    'Wally': [87, 96, 70],\n",
    "    'Eva': [100, 87, 90],\n",
    "    'Sam': [94, 77, 90],\n",
    "    'Katie': [100, 81, 82],\n",
    "    'Bob': [83, 65, 85]\n",
    "}\n",
    "\n",
    "# Create a pandas DataFrame with a custom index\n",
    "grades = pd.DataFrame(grades_dict, index=['Test1', 'Test2', 'Test3'])\n",
    "\n",
    "print(grades)\n",
    "\n",
    "# Find Eva's grades\n",
    "eva_grades = grades['Eva']\n",
    "print(\"\\nEva's Grades:\")\n",
    "print(eva_grades)\n",
    "\n",
    "# Find Sam's grades using the dot notation\n",
    "sam_grades = grades.Sam\n",
    "print(\"\\nSam's Grades:\")\n",
    "print(sam_grades)\n"
   ]
  },
  {
   "cell_type": "markdown",
   "metadata": {},
   "source": [
    "### Task 3. Accessing Rows (loc, iloc)"
   ]
  },
  {
   "cell_type": "code",
   "execution_count": 8,
   "metadata": {},
   "outputs": [
    {
     "name": "stdout",
     "output_type": "stream",
     "text": [
      "Test1 Scores:\n",
      "Wally     87\n",
      "Eva      100\n",
      "Sam       94\n",
      "Katie    100\n",
      "Bob       83\n",
      "Name: Test1, dtype: int64\n"
     ]
    }
   ],
   "source": [
    "# Use loc to get scores for the first exam\n",
    "test1_scores = grades.loc['Test1']\n",
    "print(\"Test1 Scores:\")\n",
    "print(test1_scores)"
   ]
  },
  {
   "cell_type": "code",
   "execution_count": 10,
   "metadata": {},
   "outputs": [
    {
     "name": "stdout",
     "output_type": "stream",
     "text": [
      "\n",
      "Test1 Scores:\n",
      "Wally     87\n",
      "Eva      100\n",
      "Sam       94\n",
      "Katie    100\n",
      "Bob       83\n",
      "Name: Test1, dtype: int64\n"
     ]
    }
   ],
   "source": [
    "# Use iloc to get scores for the first exam\n",
    "test1_scores = grades.iloc[0]\n",
    "print(\"\\nTest1 Scores:\")\n",
    "print(test1_scores)"
   ]
  },
  {
   "cell_type": "code",
   "execution_count": 12,
   "metadata": {},
   "outputs": [
    {
     "name": "stdout",
     "output_type": "stream",
     "text": [
      "\n",
      "Test 2 Scores:\n",
      "Wally    96\n",
      "Eva      87\n",
      "Sam      77\n",
      "Katie    81\n",
      "Bob      65\n",
      "Name: Test2, dtype: int64\n"
     ]
    }
   ],
   "source": [
    "# Use iloc to get scores for the second exam\n",
    "test2_scores = grades.iloc[1]\n",
    "print(\"\\nTest 2 Scores:\")\n",
    "print(test2_scores)\n"
   ]
  },
  {
   "cell_type": "code",
   "execution_count": 17,
   "metadata": {},
   "outputs": [
    {
     "name": "stdout",
     "output_type": "stream",
     "text": [
      "\n",
      "Slice Scores (loc):\n",
      "       Wally  Eva  Sam  Katie  Bob\n",
      "Test1     87  100   94    100   83\n",
      "Test2     96   87   77     81   65\n",
      "Test3     70   90   90     82   85\n",
      "\n",
      "Slice Scores (iloc):\n",
      "       Wally  Eva  Sam  Katie  Bob\n",
      "Test1     87  100   94    100   83\n",
      "Test2     96   87   77     81   65\n"
     ]
    }
   ],
   "source": [
    "# Get slices of rows using loc\n",
    "slice_scores_loc = grades.loc['Test1':'Test3']\n",
    "print(\"\\nSlice Scores (loc):\")\n",
    "print(slice_scores_loc)\n",
    "\n",
    "# Get slices of rows using iloc\n",
    "slice_scores_iloc = grades.iloc[0:2]\n",
    "print(\"\\nSlice Scores (iloc):\")\n",
    "print(slice_scores_iloc)"
   ]
  },
  {
   "cell_type": "code",
   "execution_count": 18,
   "metadata": {},
   "outputs": [
    {
     "name": "stdout",
     "output_type": "stream",
     "text": [
      "Selected Rows (loc):\n",
      "       Wally  Eva  Sam  Katie  Bob\n",
      "Test1     87  100   94    100   83\n",
      "Test3     70   90   90     82   85\n",
      "\n",
      "Selected Rows (iloc):\n",
      "       Wally  Eva  Sam  Katie  Bob\n",
      "Test1     87  100   94    100   83\n",
      "Test3     70   90   90     82   85\n"
     ]
    }
   ],
   "source": [
    "# Access specific rows in the DataFrame using loc\n",
    "selected_rows_loc = grades.loc[['Test1', 'Test3']]\n",
    "print(\"Selected Rows (loc):\")\n",
    "print(selected_rows_loc)\n",
    "\n",
    "# Access specific rows in the DataFrame using iloc\n",
    "selected_rows_iloc = grades.iloc[[0, 2]]\n",
    "print(\"\\nSelected Rows (iloc):\")\n",
    "print(selected_rows_iloc)\n"
   ]
  },
  {
   "cell_type": "markdown",
   "metadata": {},
   "source": [
    "##### If I know the labels of the rows I want to access, I would use loc. If I only know the integer indices of the rows, I would use iloc"
   ]
  },
  {
   "cell_type": "markdown",
   "metadata": {},
   "source": [
    "### Task 3. Accessing Subsets (at, iat)"
   ]
  },
  {
   "cell_type": "code",
   "execution_count": 19,
   "metadata": {},
   "outputs": [
    {
     "name": "stdout",
     "output_type": "stream",
     "text": [
      "Eva's Score on Test2: 87\n",
      "Wally's Score on Test3: 70\n"
     ]
    }
   ],
   "source": [
    "# Create a pandas DataFrame with a custom index\n",
    "grades = pd.DataFrame(grades_dict, index=['Test1', 'Test2', 'Test3'])\n",
    "\n",
    "# Use at to find Eva's score on the second exam using labels\n",
    "eva_test2_score = grades.at['Test2', 'Eva']\n",
    "print(f\"Eva's Score on Test2: {eva_test2_score}\")\n",
    "\n",
    "# Use iat to get the score on the third exam for the first student (Wally), using indices\n",
    "wally_test3_score = grades.iat[2, 0]\n",
    "print(f\"Wally's Score on Test3: {wally_test3_score}\")"
   ]
  },
  {
   "cell_type": "markdown",
   "metadata": {},
   "source": [
    "### Task 4. Describe (By Column)"
   ]
  },
  {
   "cell_type": "code",
   "execution_count": 20,
   "metadata": {},
   "outputs": [
    {
     "name": "stdout",
     "output_type": "stream",
     "text": [
      "       Wally     Eva    Sam   Katie    Bob\n",
      "count   3.00    3.00   3.00    3.00   3.00\n",
      "mean   84.33   92.33  87.00   87.67  77.67\n",
      "std    13.20    6.81   8.89   10.69  11.02\n",
      "min    70.00   87.00  77.00   81.00  65.00\n",
      "25%    78.50   88.50  83.50   81.50  74.00\n",
      "50%    87.00   90.00  90.00   82.00  83.00\n",
      "75%    91.50   95.00  92.00   91.00  84.00\n",
      "max    96.00  100.00  94.00  100.00  85.00\n"
     ]
    }
   ],
   "source": [
    "# Get descriptive statistics for each column\n",
    "description = grades.describe()\n",
    "\n",
    "# Set the precision of the output\n",
    "pd.set_option(\"display.precision\", 2)\n",
    "\n",
    "print(description)"
   ]
  },
  {
   "cell_type": "markdown",
   "metadata": {},
   "source": [
    "### Task 5. Transpose (rows <--> columns)"
   ]
  },
  {
   "cell_type": "code",
   "execution_count": 21,
   "metadata": {},
   "outputs": [
    {
     "name": "stdout",
     "output_type": "stream",
     "text": [
      "Average Grades:\n",
      "Wally    84.33\n",
      "Eva      92.33\n",
      "Sam      87.00\n",
      "Katie    87.67\n",
      "Bob      77.67\n",
      "dtype: float64\n",
      "\n",
      "Mean by New Columns:\n",
      "        Test1  Test2  Test3\n",
      "count    5.00   5.00   5.00\n",
      "mean    92.80  81.20  83.40\n",
      "std      7.66  11.54   8.23\n",
      "min     83.00  65.00  70.00\n",
      "25%     87.00  77.00  82.00\n",
      "50%     94.00  81.00  85.00\n",
      "75%    100.00  87.00  90.00\n",
      "max    100.00  96.00  90.00\n"
     ]
    }
   ],
   "source": [
    "# Create a pandas DataFrame with a custom index\n",
    "grades = pd.DataFrame(grades_dict, index=['Test1', 'Test2', 'Test3'])\n",
    "\n",
    "# Get the average for each column\n",
    "average_grades = grades.mean()\n",
    "print(\"Average Grades:\")\n",
    "print(average_grades)\n",
    "\n",
    "# Transpose the DataFrame\n",
    "grades_T = grades.T\n",
    "\n",
    "# Get the mean by the new columns\n",
    "mean_by_new_columns = grades_T.describe()\n",
    "print(\"\\nMean by New Columns:\")\n",
    "print(mean_by_new_columns)"
   ]
  },
  {
   "cell_type": "markdown",
   "metadata": {},
   "source": [
    "### Task 6. Sort "
   ]
  },
  {
   "cell_type": "code",
   "execution_count": 22,
   "metadata": {},
   "outputs": [
    {
     "name": "stdout",
     "output_type": "stream",
     "text": [
      "Grades Sorted by Rows:\n",
      "       Wally  Eva  Sam  Katie  Bob\n",
      "Test3     70   90   90     82   85\n",
      "Test2     96   87   77     81   65\n",
      "Test1     87  100   94    100   83\n",
      "\n",
      "Grades Sorted by Columns:\n",
      "       Bob  Eva  Katie  Sam  Wally\n",
      "Test1   83  100    100   94     87\n",
      "Test2   65   87     81   77     96\n",
      "Test3   85   90     82   90     70\n"
     ]
    }
   ],
   "source": [
    "# Create a pandas DataFrame with a custom index\n",
    "grades = pd.DataFrame(grades_dict, index=['Test1', 'Test2', 'Test3'])\n",
    "\n",
    "# Sort the gradebook rows in reverse order\n",
    "grades_sorted_rows = grades.sort_index(ascending=False)\n",
    "print(\"Grades Sorted by Rows:\")\n",
    "print(grades_sorted_rows)\n",
    "\n",
    "# Sort the gradebook columns\n",
    "grades_sorted_columns = grades.sort_index(axis=1)\n",
    "print(\"\\nGrades Sorted by Columns:\")\n",
    "print(grades_sorted_columns)"
   ]
  },
  {
   "cell_type": "code",
   "execution_count": null,
   "metadata": {},
   "outputs": [],
   "source": []
  }
 ],
 "metadata": {
  "kernelspec": {
   "display_name": ".venv",
   "language": "python",
   "name": "python3"
  },
  "language_info": {
   "codemirror_mode": {
    "name": "ipython",
    "version": 3
   },
   "file_extension": ".py",
   "mimetype": "text/x-python",
   "name": "python",
   "nbconvert_exporter": "python",
   "pygments_lexer": "ipython3",
   "version": "3.11.4"
  },
  "orig_nbformat": 4
 },
 "nbformat": 4,
 "nbformat_minor": 2
}
