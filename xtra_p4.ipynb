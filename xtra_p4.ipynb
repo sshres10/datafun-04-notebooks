{
 "cells": [
  {
   "cell_type": "markdown",
   "metadata": {},
   "source": [
    "# Optional Task 5 "
   ]
  },
  {
   "cell_type": "code",
   "execution_count": 1,
   "metadata": {},
   "outputs": [
    {
     "name": "stdout",
     "output_type": "stream",
     "text": [
      "         Name             Email         Phone\n",
      "0  Mike Green  demo1@deitel.com  555-555-5555\n",
      "1   Sue Brown  demo2@deitel.com  555-555-1234\n"
     ]
    }
   ],
   "source": [
    "# Import necessary libraries\n",
    "import pandas as pd\n",
    "import re\n",
    "\n",
    "# Create a list of contacts\n",
    "contacts = [['Mike Green', 'demo1@deitel.com', '5555555555'],\n",
    "            ['Sue Brown', 'demo2@deitel.com', '5555551234']]\n",
    "\n",
    "# Create a DataFrame\n",
    "contacts_df = pd.DataFrame(contacts, columns=['Name', 'Email', 'Phone'])\n",
    "\n",
    "# Define a function to format phone numbers\n",
    "def format_phone_number(phone_number):\n",
    "    formatted_phone_number = re.sub(r\"(\\d{3})(\\d{3})(\\d{4})\", r\"\\1-\\2-\\3\", phone_number)\n",
    "    return formatted_phone_number\n",
    "\n",
    "# Use map() and your function to improve the DataFrame\n",
    "contacts_df['Phone'] = contacts_df['Phone'].map(format_phone_number)\n",
    "\n",
    "# Verify phone numbers now appear with two dashes (e.g., 555-555-5555)\n",
    "print(contacts_df)\n"
   ]
  },
  {
   "cell_type": "code",
   "execution_count": null,
   "metadata": {},
   "outputs": [],
   "source": []
  }
 ],
 "metadata": {
  "kernelspec": {
   "display_name": ".venv",
   "language": "python",
   "name": "python3"
  },
  "language_info": {
   "codemirror_mode": {
    "name": "ipython",
    "version": 3
   },
   "file_extension": ".py",
   "mimetype": "text/x-python",
   "name": "python",
   "nbconvert_exporter": "python",
   "pygments_lexer": "ipython3",
   "version": "3.11.4"
  },
  "orig_nbformat": 4
 },
 "nbformat": 4,
 "nbformat_minor": 2
}
