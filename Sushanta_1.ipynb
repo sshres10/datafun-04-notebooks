{
 "cells": [
  {
   "cell_type": "markdown",
   "metadata": {},
   "source": [
    "# Module 4 Project 4: "
   ]
  },
  {
   "cell_type": "markdown",
   "metadata": {},
   "source": [
    "### Author: Sushanta Shrestha"
   ]
  },
  {
   "cell_type": "markdown",
   "metadata": {},
   "source": [
    "#### https://github.com/sshres10/datafun-04-notebooks"
   ]
  },
  {
   "cell_type": "markdown",
   "metadata": {},
   "source": [
    "#### Resource link: https://pypi.org/project/jupyter-resource-usage/\n"
   ]
  },
  {
   "cell_type": "markdown",
   "metadata": {},
   "source": [
    "# Task 1 - Sushanta_1 \n",
    "\n",
    "## Task 1 - Series "
   ]
  },
  {
   "cell_type": "code",
   "execution_count": 7,
   "metadata": {},
   "outputs": [
    {
     "name": "stdout",
     "output_type": "stream",
     "text": [
      "First Grade: 85\n",
      "Count: 8\n",
      "Mean: 86.625\n",
      "Min: 76\n",
      "Max: 95\n",
      "Standard Deviation: 6.631903411324901\n",
      "Description:\n",
      "count     8.000000\n",
      "mean     86.625000\n",
      "std       6.631903\n",
      "min      76.000000\n",
      "25%      83.250000\n",
      "50%      88.500000\n",
      "75%      90.500000\n",
      "max      95.000000\n",
      "dtype: float64\n"
     ]
    }
   ],
   "source": [
    "# Import pandas module\n",
    "import pandas as pd\n",
    "\n",
    "# Create a pandas Series named grades from a list of integers (exam scores)\n",
    "grades = pd.Series([85, 90, 78, 92, 88, 76, 95, 89])\n",
    "\n",
    "# Get the value of the first grade\n",
    "first_grade = grades[0]\n",
    "print(f\"First Grade: {first_grade}\")\n",
    "\n",
    "# Call the built-in Series functions\n",
    "count = grades.count()\n",
    "print(f\"Count: {count}\")\n",
    "\n",
    "mean = grades.mean()\n",
    "print(f\"Mean: {mean}\")\n",
    "\n",
    "min_grade = grades.min()\n",
    "print(f\"Min: {min_grade}\")\n",
    "\n",
    "max_grade = grades.max()\n",
    "print(f\"Max: {max_grade}\")\n",
    "\n",
    "std_dev = grades.std()\n",
    "print(f\"Standard Deviation: {std_dev}\")\n",
    "\n",
    "description = grades.describe()\n",
    "print(\"Description:\")\n",
    "print(description)\n"
   ]
  },
  {
   "cell_type": "markdown",
   "metadata": {},
   "source": [
    "## Task 2 :  Seires from DIctionary "
   ]
  },
  {
   "cell_type": "code",
   "execution_count": 9,
   "metadata": {},
   "outputs": [
    {
     "name": "stdout",
     "output_type": "stream",
     "text": [
      "Eva's Score: [100, 87, 90]\n",
      "Wally's Score: [87, 96, 70]\n",
      "Values:\n",
      "[list([100, 87, 90]) list([87, 96, 70]) list([94, 77, 90])\n",
      " list([100, 81, 82])]\n"
     ]
    }
   ],
   "source": [
    "\n",
    "\n",
    "# Create a pandas Series named grades from a dictionary (student name as the key and exam score as the value)\n",
    "grades = pd.Series({'Eva': [100, 87, 90], 'Wally': [87, 96, 70], 'Sam': [94, 77, 90], 'Kate': [100, 81, 82]})\n",
    "\n",
    "# Get Eva's score\n",
    "eva_score = grades['Eva']\n",
    "print(f\"Eva's Score: {eva_score}\")\n",
    "\n",
    "# Get Wally's score using the dot notation\n",
    "wally_score = grades.Wally\n",
    "print(f\"Wally's Score: {wally_score}\")\n",
    "\n",
    "# Use the Series values attribute to display the array of values\n",
    "values = grades.values\n",
    "print(\"Values:\")\n",
    "print(values)\n"
   ]
  }
 ],
 "metadata": {
  "kernelspec": {
   "display_name": ".venv",
   "language": "python",
   "name": "python3"
  },
  "language_info": {
   "codemirror_mode": {
    "name": "ipython",
    "version": 3
   },
   "file_extension": ".py",
   "mimetype": "text/x-python",
   "name": "python",
   "nbconvert_exporter": "python",
   "pygments_lexer": "ipython3",
   "version": "3.11.4"
  },
  "orig_nbformat": 4
 },
 "nbformat": 4,
 "nbformat_minor": 2
}
